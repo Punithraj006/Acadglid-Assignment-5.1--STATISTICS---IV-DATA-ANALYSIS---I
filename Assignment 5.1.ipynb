{
 "cells": [
  {
   "cell_type": "markdown",
   "metadata": {},
   "source": [
    "Problem Statement:\n",
    "\n",
    "Is gender independent of education level? A random sample of 395 people were\n",
    "surveyed and each person was asked to report the highest education level they\n",
    "obtained. The data that resulted from the survey is summarized in the following table:\n",
    "\n",
    "High School Bachelors Masters Ph.d. Total\n",
    "Female 60 54 46 41 201\n",
    "Male 40 44 53 57 194\n",
    "Total 100 98 99 98 395\n",
    "\n",
    "Question: Are gender and education level dependent at 5% level of significance? In\n",
    "other words, given the data collected above, is there a relationship between the gender\n",
    "of an individual and the level of education that they have obtained?"
   ]
  },
  {
   "cell_type": "code",
   "execution_count": null,
   "metadata": {},
   "outputs": [],
   "source": [
    "#Solution:\n",
    "Write the required hypothesis.\n",
    "\n",
    "1) Null Hypothesis: The gender and education level independent.\n",
    "\n",
    "2) Alternative Hypothesis: The gender and education level dependent.\n",
    "    \n",
    "    \n",
    "By the problem, gender and education level dependent at 5% level of significance! \n",
    "So the expected count is:\n",
    " \n",
    "     High School Bachelors\tMasters\tPh.d.\tTotal\n",
    "Female\t50.886\t49.868\t50.377\t49.868\t201\n",
    "Male\t49.114\t48.132\t48.623\t48.132\t194\n",
    "Total\t100\t98\t99\t98\t395\n",
    "\n",
    "\n",
    "X2 = (60-50.886)2/50.886 + (54-49.868)2/49.868 + (46-50.377)2/50.377 + ....(57-48.132)2/48.132 = 8.006\n",
    "\n",
    "The critical value of X2 with 3 degree of freedom is 7.815. \n",
    "Since 8.006 > 7.815,\n",
    "\n",
    "therefore we reject the null hypothesis and conclude that the education level depends on gender at a 5% level of significance."
   ]
  },
  {
   "cell_type": "code",
   "execution_count": null,
   "metadata": {},
   "outputs": [],
   "source": []
  }
 ],
 "metadata": {
  "kernelspec": {
   "display_name": "Python 3",
   "language": "python",
   "name": "python3"
  },
  "language_info": {
   "codemirror_mode": {
    "name": "ipython",
    "version": 3
   },
   "file_extension": ".py",
   "mimetype": "text/x-python",
   "name": "python",
   "nbconvert_exporter": "python",
   "pygments_lexer": "ipython3",
   "version": "3.6.4"
  }
 },
 "nbformat": 4,
 "nbformat_minor": 2
}
